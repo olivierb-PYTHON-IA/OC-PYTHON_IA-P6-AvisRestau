{
 "cells": [
  {
   "cell_type": "markdown",
   "id": "5eda125f",
   "metadata": {},
   "source": [
    "# OpenClassrooms - Ingenieur IA\n",
    "# Projet 6 - Avis Restau\n",
    "# Améliorez le produit IA de votre start-up\n",
    "\n",
    "## Objectif du projet : \n",
    "- **Détecter les sujets d’insatisfaction présents dans les commentaires postés sur la plateforme**\n",
    "- **Labelliser automatiquement les photos postées sur la plateforme**\n",
    "- **Collecter de nouvelles données via l’API Yelp**\n",
    "\n",
    "## Trois parties :\n",
    "- **Partie A : analyser les commentaires pour détecter les différents sujets d’insatisfaction**\n",
    "- **Partie B : analyser les photos pour déterminer les catégories des photos**\n",
    "- **Partie C : collecter un échantillon de données via l’API Yelp**\n",
    "\n",
    "## Plan :\n",
    "- **Partie C : collecter un échantillon de données via l’API Yelp**\n",
    "    - Paramètres\n",
    "    - Construction du client\n",
    "    - Collecte des critiques laissées par les clients\n",
    "    - Collecte des photos\n",
    "    - Conclusion"
   ]
  },
  {
   "cell_type": "code",
   "execution_count": 1,
   "id": "4c5918df",
   "metadata": {},
   "outputs": [],
   "source": [
    "import requests\n",
    "import json\n",
    "import pandas as pd\n",
    "import os"
   ]
  },
  {
   "cell_type": "code",
   "execution_count": 2,
   "id": "608ed51a",
   "metadata": {},
   "outputs": [],
   "source": [
    "from gql import gql, Client\n",
    "from gql.transport.requests import RequestsHTTPTransport"
   ]
  },
  {
   "cell_type": "markdown",
   "id": "8bdf526a",
   "metadata": {},
   "source": [
    "# Partie C : collecter un échantillon de données via l’API Yelp"
   ]
  },
  {
   "cell_type": "markdown",
   "id": "5bdea6d6",
   "metadata": {},
   "source": [
    "### Remarques préliminaires :\n",
    "- Afin de pouvoir utiliser l'API Yelp nous avons créé un compte\n",
    "- Cela nous a permis de générer une clé d'authentification sur l'API\n",
    "- Pour des raisons de sécurité, cette clé d'authentification est enregistrée dans les variables d'environnement afin qu'elle n'apparaisse pas en clair dans le code\n",
    "- Nous avons utilisé l'API GraphQL qui est la plus avancée : elle permet de faire des requêtes sur mesure uniquement sur les données dont nous avons besoin"
   ]
  },
  {
   "cell_type": "markdown",
   "id": "29494604",
   "metadata": {},
   "source": [
    "## Paramètres"
   ]
  },
  {
   "cell_type": "code",
   "execution_count": 3,
   "id": "85b57536",
   "metadata": {},
   "outputs": [],
   "source": [
    "api_key = os.environ['YELP_API_KEY']\n",
    "\n",
    "header = {'Authorization': 'bearer {}'.format(api_key),\n",
    "          'Content-Type':\"application/json\"}\n",
    "\n",
    "nb_restaurants = 200"
   ]
  },
  {
   "cell_type": "markdown",
   "id": "34029a7c",
   "metadata": {},
   "source": [
    "## Construction du client"
   ]
  },
  {
   "cell_type": "code",
   "execution_count": 4,
   "id": "5c11d8ca",
   "metadata": {},
   "outputs": [],
   "source": [
    "transport = RequestsHTTPTransport(url='https://api.yelp.com/v3/graphql', headers=header, use_json=True)\n",
    "client = Client(transport=transport, fetch_schema_from_transport=True)"
   ]
  },
  {
   "cell_type": "markdown",
   "id": "f1b84613",
   "metadata": {},
   "source": [
    "## Collecte des critiques laissées par les clients"
   ]
  },
  {
   "cell_type": "markdown",
   "id": "477d379e",
   "metadata": {},
   "source": [
    "### Requête"
   ]
  },
  {
   "cell_type": "markdown",
   "id": "420b6a60",
   "metadata": {},
   "source": [
    "#### Remarques : \n",
    "- L'API renvoie un maximum de 50 données par requête\n",
    "- Etant donné que nous souhaitons obtenir les données pour **200 restaurants** nous utilisons une boucle pour faire plusieurs requêtes successives\n",
    "- Nous récupérons les informations suivantes :\n",
    "    - identifiant du restaurant (id_restaurant)\n",
    "    - note de la critique (rating)\n",
    "    - texte de la critique (text)\n",
    "- L'API renvoie un maximum de 3 critiques par restaurant\n",
    "- L'API ne renvoie pas uniquement des restaurants car la base de données Yelp contient des informations sur d'autres types d'établissements (cliniques...)\n",
    "> On va donc appliquer un filtre à la requête pour ne retenir que les restaurants"
   ]
  },
  {
   "cell_type": "code",
   "execution_count": 5,
   "id": "1da71bf9",
   "metadata": {},
   "outputs": [],
   "source": [
    "# Requêtes successives\n",
    "data_reviews = []\n",
    "for offset in range(0, nb_restaurants, 50):\n",
    "    query = gql('''\n",
    "    {\n",
    "      search(term: \"restaurants\",\n",
    "              location: \"san francisco\", \n",
    "              limit:50,\n",
    "              offset:'''+str(offset)+''') {\n",
    "        business {\n",
    "          id\n",
    "          reviews {\n",
    "            text\n",
    "            rating\n",
    "          }\n",
    "        }\n",
    "      }\n",
    "    }\n",
    "    ''')\n",
    "    \n",
    "    # Exécution de la requête\n",
    "    response = client.execute(query)\n",
    "    \n",
    "    # Ajout de la réponse au dataset \n",
    "    data_reviews+=response['search']['business']"
   ]
  },
  {
   "cell_type": "markdown",
   "id": "b572cb3f",
   "metadata": {},
   "source": [
    "### Construction d'un Dataframe avec les résultats"
   ]
  },
  {
   "cell_type": "code",
   "execution_count": 6,
   "id": "54985765",
   "metadata": {},
   "outputs": [],
   "source": [
    "id_restaurant = []\n",
    "reviews_ratings = []\n",
    "reviews_texts = []\n",
    "\n",
    "for i in range (len(data_reviews)):\n",
    "    for j in range (len(data_reviews[i]['reviews'])):\n",
    "        id_restaurant.append(data_reviews[i]['id'])\n",
    "        reviews_ratings.append(data_reviews[i]['reviews'][j]['rating'])\n",
    "        reviews_texts.append(data_reviews[i]['reviews'][j]['text'])\n",
    "    \n",
    "df_data_reviews = pd.DataFrame(list(zip(id_restaurant, reviews_ratings, reviews_texts)), columns=['id_restaurant','rating', 'text'])  "
   ]
  },
  {
   "cell_type": "markdown",
   "id": "1372c509",
   "metadata": {},
   "source": [
    "### Analyse du Dataframe contenant les résultats"
   ]
  },
  {
   "cell_type": "code",
   "execution_count": 7,
   "id": "40045c1d",
   "metadata": {},
   "outputs": [
    {
     "data": {
      "text/html": [
       "<div>\n",
       "<style scoped>\n",
       "    .dataframe tbody tr th:only-of-type {\n",
       "        vertical-align: middle;\n",
       "    }\n",
       "\n",
       "    .dataframe tbody tr th {\n",
       "        vertical-align: top;\n",
       "    }\n",
       "\n",
       "    .dataframe thead th {\n",
       "        text-align: right;\n",
       "    }\n",
       "</style>\n",
       "<table border=\"1\" class=\"dataframe\">\n",
       "  <thead>\n",
       "    <tr style=\"text-align: right;\">\n",
       "      <th></th>\n",
       "      <th>id_restaurant</th>\n",
       "      <th>rating</th>\n",
       "      <th>text</th>\n",
       "    </tr>\n",
       "  </thead>\n",
       "  <tbody>\n",
       "    <tr>\n",
       "      <th>0</th>\n",
       "      <td>reXWH9Wo0ZTOuQsTMNOSxg</td>\n",
       "      <td>5</td>\n",
       "      <td>Our party of six had a great evening. We had r...</td>\n",
       "    </tr>\n",
       "    <tr>\n",
       "      <th>1</th>\n",
       "      <td>reXWH9Wo0ZTOuQsTMNOSxg</td>\n",
       "      <td>3</td>\n",
       "      <td>Went to Fable today for Brunch. I ordered the ...</td>\n",
       "    </tr>\n",
       "    <tr>\n",
       "      <th>2</th>\n",
       "      <td>reXWH9Wo0ZTOuQsTMNOSxg</td>\n",
       "      <td>5</td>\n",
       "      <td>To start, Fable has so many seating options! O...</td>\n",
       "    </tr>\n",
       "    <tr>\n",
       "      <th>3</th>\n",
       "      <td>-DrR38H1Abk0wCyu9XOLug</td>\n",
       "      <td>1</td>\n",
       "      <td>When we scared by the little rat family runnin...</td>\n",
       "    </tr>\n",
       "    <tr>\n",
       "      <th>4</th>\n",
       "      <td>-DrR38H1Abk0wCyu9XOLug</td>\n",
       "      <td>5</td>\n",
       "      <td>I've had a lot of good brunches in SF, but thi...</td>\n",
       "    </tr>\n",
       "    <tr>\n",
       "      <th>...</th>\n",
       "      <td>...</td>\n",
       "      <td>...</td>\n",
       "      <td>...</td>\n",
       "    </tr>\n",
       "    <tr>\n",
       "      <th>593</th>\n",
       "      <td>RxIFKVvc8iVBPIVpe55Byg</td>\n",
       "      <td>4</td>\n",
       "      <td>Quickly looked up restaurants we could walk to...</td>\n",
       "    </tr>\n",
       "    <tr>\n",
       "      <th>594</th>\n",
       "      <td>RxIFKVvc8iVBPIVpe55Byg</td>\n",
       "      <td>3</td>\n",
       "      <td>Every dish we order had something wrong with i...</td>\n",
       "    </tr>\n",
       "    <tr>\n",
       "      <th>595</th>\n",
       "      <td>vth2jtXfVUCRJeIP680CyA</td>\n",
       "      <td>5</td>\n",
       "      <td>Always a joy coming here. Every dish I've ever...</td>\n",
       "    </tr>\n",
       "    <tr>\n",
       "      <th>596</th>\n",
       "      <td>vth2jtXfVUCRJeIP680CyA</td>\n",
       "      <td>1</td>\n",
       "      <td>They don't substitute anything. And the waiter...</td>\n",
       "    </tr>\n",
       "    <tr>\n",
       "      <th>597</th>\n",
       "      <td>vth2jtXfVUCRJeIP680CyA</td>\n",
       "      <td>5</td>\n",
       "      <td>One of my favorite type of noodles (and noodle...</td>\n",
       "    </tr>\n",
       "  </tbody>\n",
       "</table>\n",
       "<p>598 rows × 3 columns</p>\n",
       "</div>"
      ],
      "text/plain": [
       "              id_restaurant  rating  \\\n",
       "0    reXWH9Wo0ZTOuQsTMNOSxg       5   \n",
       "1    reXWH9Wo0ZTOuQsTMNOSxg       3   \n",
       "2    reXWH9Wo0ZTOuQsTMNOSxg       5   \n",
       "3    -DrR38H1Abk0wCyu9XOLug       1   \n",
       "4    -DrR38H1Abk0wCyu9XOLug       5   \n",
       "..                      ...     ...   \n",
       "593  RxIFKVvc8iVBPIVpe55Byg       4   \n",
       "594  RxIFKVvc8iVBPIVpe55Byg       3   \n",
       "595  vth2jtXfVUCRJeIP680CyA       5   \n",
       "596  vth2jtXfVUCRJeIP680CyA       1   \n",
       "597  vth2jtXfVUCRJeIP680CyA       5   \n",
       "\n",
       "                                                  text  \n",
       "0    Our party of six had a great evening. We had r...  \n",
       "1    Went to Fable today for Brunch. I ordered the ...  \n",
       "2    To start, Fable has so many seating options! O...  \n",
       "3    When we scared by the little rat family runnin...  \n",
       "4    I've had a lot of good brunches in SF, but thi...  \n",
       "..                                                 ...  \n",
       "593  Quickly looked up restaurants we could walk to...  \n",
       "594  Every dish we order had something wrong with i...  \n",
       "595  Always a joy coming here. Every dish I've ever...  \n",
       "596  They don't substitute anything. And the waiter...  \n",
       "597  One of my favorite type of noodles (and noodle...  \n",
       "\n",
       "[598 rows x 3 columns]"
      ]
     },
     "execution_count": 7,
     "metadata": {},
     "output_type": "execute_result"
    }
   ],
   "source": [
    "df_data_reviews"
   ]
  },
  {
   "cell_type": "markdown",
   "id": "c6247ee1",
   "metadata": {},
   "source": [
    "#### Nombre de critiques"
   ]
  },
  {
   "cell_type": "code",
   "execution_count": 8,
   "id": "173b42a9",
   "metadata": {},
   "outputs": [
    {
     "name": "stdout",
     "output_type": "stream",
     "text": [
      "Le Dataframe contient 598 critiques\n"
     ]
    }
   ],
   "source": [
    "print(f\"Le Dataframe contient {df_data_reviews.shape[0]} critiques\")"
   ]
  },
  {
   "cell_type": "markdown",
   "id": "e8954400",
   "metadata": {},
   "source": [
    "#### Nombre de restaurants"
   ]
  },
  {
   "cell_type": "code",
   "execution_count": 9,
   "id": "3aea5a20",
   "metadata": {},
   "outputs": [
    {
     "data": {
      "text/plain": [
       "200"
      ]
     },
     "execution_count": 9,
     "metadata": {},
     "output_type": "execute_result"
    }
   ],
   "source": [
    "nb_rest = df_data_reviews['id_restaurant'].nunique()\n",
    "nb_rest"
   ]
  },
  {
   "cell_type": "code",
   "execution_count": 10,
   "id": "80bc2619",
   "metadata": {},
   "outputs": [
    {
     "name": "stdout",
     "output_type": "stream",
     "text": [
      "Le Dataframe contient des critiques sur 200 restaurants\n"
     ]
    }
   ],
   "source": [
    "print(f\"Le Dataframe contient des critiques sur {nb_rest} restaurants\")"
   ]
  },
  {
   "cell_type": "markdown",
   "id": "157a78e8",
   "metadata": {},
   "source": [
    "### Sauvegarde des informations dans un fichier CSV"
   ]
  },
  {
   "cell_type": "code",
   "execution_count": 11,
   "id": "9bb96f6b",
   "metadata": {},
   "outputs": [],
   "source": [
    "df_data_reviews.to_csv('data_reviews_api.csv')"
   ]
  },
  {
   "cell_type": "markdown",
   "id": "13cc239d",
   "metadata": {},
   "source": [
    "### Téléchargement du fichier pour vérification"
   ]
  },
  {
   "cell_type": "code",
   "execution_count": 12,
   "id": "92078533",
   "metadata": {},
   "outputs": [],
   "source": [
    "df_data_reviews_download = pd.read_csv('data_reviews_api.csv', index_col=0)"
   ]
  },
  {
   "cell_type": "code",
   "execution_count": 13,
   "id": "6789cffd",
   "metadata": {
    "scrolled": true
   },
   "outputs": [
    {
     "data": {
      "text/html": [
       "<div>\n",
       "<style scoped>\n",
       "    .dataframe tbody tr th:only-of-type {\n",
       "        vertical-align: middle;\n",
       "    }\n",
       "\n",
       "    .dataframe tbody tr th {\n",
       "        vertical-align: top;\n",
       "    }\n",
       "\n",
       "    .dataframe thead th {\n",
       "        text-align: right;\n",
       "    }\n",
       "</style>\n",
       "<table border=\"1\" class=\"dataframe\">\n",
       "  <thead>\n",
       "    <tr style=\"text-align: right;\">\n",
       "      <th></th>\n",
       "      <th>id_restaurant</th>\n",
       "      <th>rating</th>\n",
       "      <th>text</th>\n",
       "    </tr>\n",
       "  </thead>\n",
       "  <tbody>\n",
       "    <tr>\n",
       "      <th>0</th>\n",
       "      <td>reXWH9Wo0ZTOuQsTMNOSxg</td>\n",
       "      <td>5</td>\n",
       "      <td>Our party of six had a great evening. We had r...</td>\n",
       "    </tr>\n",
       "    <tr>\n",
       "      <th>1</th>\n",
       "      <td>reXWH9Wo0ZTOuQsTMNOSxg</td>\n",
       "      <td>3</td>\n",
       "      <td>Went to Fable today for Brunch. I ordered the ...</td>\n",
       "    </tr>\n",
       "    <tr>\n",
       "      <th>2</th>\n",
       "      <td>reXWH9Wo0ZTOuQsTMNOSxg</td>\n",
       "      <td>5</td>\n",
       "      <td>To start, Fable has so many seating options! O...</td>\n",
       "    </tr>\n",
       "    <tr>\n",
       "      <th>3</th>\n",
       "      <td>-DrR38H1Abk0wCyu9XOLug</td>\n",
       "      <td>1</td>\n",
       "      <td>When we scared by the little rat family runnin...</td>\n",
       "    </tr>\n",
       "    <tr>\n",
       "      <th>4</th>\n",
       "      <td>-DrR38H1Abk0wCyu9XOLug</td>\n",
       "      <td>5</td>\n",
       "      <td>I've had a lot of good brunches in SF, but thi...</td>\n",
       "    </tr>\n",
       "    <tr>\n",
       "      <th>...</th>\n",
       "      <td>...</td>\n",
       "      <td>...</td>\n",
       "      <td>...</td>\n",
       "    </tr>\n",
       "    <tr>\n",
       "      <th>593</th>\n",
       "      <td>RxIFKVvc8iVBPIVpe55Byg</td>\n",
       "      <td>4</td>\n",
       "      <td>Quickly looked up restaurants we could walk to...</td>\n",
       "    </tr>\n",
       "    <tr>\n",
       "      <th>594</th>\n",
       "      <td>RxIFKVvc8iVBPIVpe55Byg</td>\n",
       "      <td>3</td>\n",
       "      <td>Every dish we order had something wrong with i...</td>\n",
       "    </tr>\n",
       "    <tr>\n",
       "      <th>595</th>\n",
       "      <td>vth2jtXfVUCRJeIP680CyA</td>\n",
       "      <td>5</td>\n",
       "      <td>Always a joy coming here. Every dish I've ever...</td>\n",
       "    </tr>\n",
       "    <tr>\n",
       "      <th>596</th>\n",
       "      <td>vth2jtXfVUCRJeIP680CyA</td>\n",
       "      <td>1</td>\n",
       "      <td>They don't substitute anything. And the waiter...</td>\n",
       "    </tr>\n",
       "    <tr>\n",
       "      <th>597</th>\n",
       "      <td>vth2jtXfVUCRJeIP680CyA</td>\n",
       "      <td>5</td>\n",
       "      <td>One of my favorite type of noodles (and noodle...</td>\n",
       "    </tr>\n",
       "  </tbody>\n",
       "</table>\n",
       "<p>598 rows × 3 columns</p>\n",
       "</div>"
      ],
      "text/plain": [
       "              id_restaurant  rating  \\\n",
       "0    reXWH9Wo0ZTOuQsTMNOSxg       5   \n",
       "1    reXWH9Wo0ZTOuQsTMNOSxg       3   \n",
       "2    reXWH9Wo0ZTOuQsTMNOSxg       5   \n",
       "3    -DrR38H1Abk0wCyu9XOLug       1   \n",
       "4    -DrR38H1Abk0wCyu9XOLug       5   \n",
       "..                      ...     ...   \n",
       "593  RxIFKVvc8iVBPIVpe55Byg       4   \n",
       "594  RxIFKVvc8iVBPIVpe55Byg       3   \n",
       "595  vth2jtXfVUCRJeIP680CyA       5   \n",
       "596  vth2jtXfVUCRJeIP680CyA       1   \n",
       "597  vth2jtXfVUCRJeIP680CyA       5   \n",
       "\n",
       "                                                  text  \n",
       "0    Our party of six had a great evening. We had r...  \n",
       "1    Went to Fable today for Brunch. I ordered the ...  \n",
       "2    To start, Fable has so many seating options! O...  \n",
       "3    When we scared by the little rat family runnin...  \n",
       "4    I've had a lot of good brunches in SF, but thi...  \n",
       "..                                                 ...  \n",
       "593  Quickly looked up restaurants we could walk to...  \n",
       "594  Every dish we order had something wrong with i...  \n",
       "595  Always a joy coming here. Every dish I've ever...  \n",
       "596  They don't substitute anything. And the waiter...  \n",
       "597  One of my favorite type of noodles (and noodle...  \n",
       "\n",
       "[598 rows x 3 columns]"
      ]
     },
     "execution_count": 13,
     "metadata": {},
     "output_type": "execute_result"
    }
   ],
   "source": [
    "df_data_reviews_download"
   ]
  },
  {
   "cell_type": "markdown",
   "id": "7d30816b",
   "metadata": {},
   "source": [
    "## Collecte des photos"
   ]
  },
  {
   "cell_type": "markdown",
   "id": "2606ed8e",
   "metadata": {},
   "source": [
    "### Requête"
   ]
  },
  {
   "cell_type": "markdown",
   "id": "1e556022",
   "metadata": {},
   "source": [
    "#### Remarques : \n",
    "- L'API renvoie un maximum de 50 données par requête\n",
    "- Etant donné que nous souhaitons obtenir les données pour **200 restaurants** nous utilisons une boucle pour faire plusieurs requêtes successive\n",
    "- Nous récupérons les informations suivantes :\n",
    "    - identifiant du restaurant (id_restaurant)\n",
    "    - url de la photo (photo_url)"
   ]
  },
  {
   "cell_type": "code",
   "execution_count": 14,
   "id": "e4bf3fe6",
   "metadata": {},
   "outputs": [],
   "source": [
    "# Requêtes successives\n",
    "data_photos = []\n",
    "for offset in range(0, nb_restaurants, 50):\n",
    "    query = gql('''\n",
    "    {\n",
    "      search(term: \"restaurants\",\n",
    "              location:\"san francisco\", \n",
    "              limit:50,\n",
    "              offset:'''+str(offset)+''') {\n",
    "        business {\n",
    "            id\n",
    "            photos\n",
    "          }\n",
    "        }\n",
    "    }\n",
    "    ''')\n",
    "    \n",
    "    # Exécution de la requête\n",
    "    response = client.execute(query)\n",
    "    \n",
    "    # Ajout de la réponse au dataset \n",
    "    data_photos+=response['search']['business']"
   ]
  },
  {
   "cell_type": "markdown",
   "id": "703b180b",
   "metadata": {},
   "source": [
    "### Construction d'un Dataframe avec les résultats"
   ]
  },
  {
   "cell_type": "code",
   "execution_count": 15,
   "id": "d26f7d5a",
   "metadata": {},
   "outputs": [],
   "source": [
    "id_restaurant = []\n",
    "url_photos = []\n",
    "\n",
    "for i in range (len(data_photos)):\n",
    "    id_restaurant.append(data_photos[i]['id'])\n",
    "    url_photos.append(data_photos[i]['photos'])\n",
    "    \n",
    "df_data_photos = pd.DataFrame(list(zip(id_restaurant, url_photos)), columns=['id_restaurant','url_photos'])  "
   ]
  },
  {
   "cell_type": "markdown",
   "id": "fc91d218",
   "metadata": {},
   "source": [
    "### Analyse du Dataframe contenant les résultats"
   ]
  },
  {
   "cell_type": "code",
   "execution_count": 16,
   "id": "e5c07cd5",
   "metadata": {},
   "outputs": [
    {
     "data": {
      "text/html": [
       "<div>\n",
       "<style scoped>\n",
       "    .dataframe tbody tr th:only-of-type {\n",
       "        vertical-align: middle;\n",
       "    }\n",
       "\n",
       "    .dataframe tbody tr th {\n",
       "        vertical-align: top;\n",
       "    }\n",
       "\n",
       "    .dataframe thead th {\n",
       "        text-align: right;\n",
       "    }\n",
       "</style>\n",
       "<table border=\"1\" class=\"dataframe\">\n",
       "  <thead>\n",
       "    <tr style=\"text-align: right;\">\n",
       "      <th></th>\n",
       "      <th>id_restaurant</th>\n",
       "      <th>url_photos</th>\n",
       "    </tr>\n",
       "  </thead>\n",
       "  <tbody>\n",
       "    <tr>\n",
       "      <th>0</th>\n",
       "      <td>reXWH9Wo0ZTOuQsTMNOSxg</td>\n",
       "      <td>[https://s3-media4.fl.yelpcdn.com/bphoto/hE4xB...</td>\n",
       "    </tr>\n",
       "    <tr>\n",
       "      <th>1</th>\n",
       "      <td>-DrR38H1Abk0wCyu9XOLug</td>\n",
       "      <td>[https://s3-media3.fl.yelpcdn.com/bphoto/UwlH3...</td>\n",
       "    </tr>\n",
       "    <tr>\n",
       "      <th>2</th>\n",
       "      <td>8kck3-K4zYKTJbJko0JlXQ</td>\n",
       "      <td>[https://s3-media4.fl.yelpcdn.com/bphoto/kUlEa...</td>\n",
       "    </tr>\n",
       "    <tr>\n",
       "      <th>3</th>\n",
       "      <td>4KfQnlcSu4bbTqnvGdGptw</td>\n",
       "      <td>[https://s3-media2.fl.yelpcdn.com/bphoto/HKxMJ...</td>\n",
       "    </tr>\n",
       "    <tr>\n",
       "      <th>4</th>\n",
       "      <td>HHtpR0RslupSQ99GIIwW5A</td>\n",
       "      <td>[https://s3-media4.fl.yelpcdn.com/bphoto/ouK2V...</td>\n",
       "    </tr>\n",
       "    <tr>\n",
       "      <th>...</th>\n",
       "      <td>...</td>\n",
       "      <td>...</td>\n",
       "    </tr>\n",
       "    <tr>\n",
       "      <th>195</th>\n",
       "      <td>6dpogM9AfMtNcXswIDJ1sg</td>\n",
       "      <td>[https://s3-media4.fl.yelpcdn.com/bphoto/LL6Lx...</td>\n",
       "    </tr>\n",
       "    <tr>\n",
       "      <th>196</th>\n",
       "      <td>4vqUi0Zrhj6D7nAaMZz-OQ</td>\n",
       "      <td>[https://s3-media2.fl.yelpcdn.com/bphoto/onZg_...</td>\n",
       "    </tr>\n",
       "    <tr>\n",
       "      <th>197</th>\n",
       "      <td>Gh3cLhqw1BqpFSN5BaemBg</td>\n",
       "      <td>[https://s3-media1.fl.yelpcdn.com/bphoto/bAfER...</td>\n",
       "    </tr>\n",
       "    <tr>\n",
       "      <th>198</th>\n",
       "      <td>RxIFKVvc8iVBPIVpe55Byg</td>\n",
       "      <td>[https://s3-media3.fl.yelpcdn.com/bphoto/2vFXN...</td>\n",
       "    </tr>\n",
       "    <tr>\n",
       "      <th>199</th>\n",
       "      <td>vth2jtXfVUCRJeIP680CyA</td>\n",
       "      <td>[https://s3-media3.fl.yelpcdn.com/bphoto/7M2QW...</td>\n",
       "    </tr>\n",
       "  </tbody>\n",
       "</table>\n",
       "<p>200 rows × 2 columns</p>\n",
       "</div>"
      ],
      "text/plain": [
       "              id_restaurant                                         url_photos\n",
       "0    reXWH9Wo0ZTOuQsTMNOSxg  [https://s3-media4.fl.yelpcdn.com/bphoto/hE4xB...\n",
       "1    -DrR38H1Abk0wCyu9XOLug  [https://s3-media3.fl.yelpcdn.com/bphoto/UwlH3...\n",
       "2    8kck3-K4zYKTJbJko0JlXQ  [https://s3-media4.fl.yelpcdn.com/bphoto/kUlEa...\n",
       "3    4KfQnlcSu4bbTqnvGdGptw  [https://s3-media2.fl.yelpcdn.com/bphoto/HKxMJ...\n",
       "4    HHtpR0RslupSQ99GIIwW5A  [https://s3-media4.fl.yelpcdn.com/bphoto/ouK2V...\n",
       "..                      ...                                                ...\n",
       "195  6dpogM9AfMtNcXswIDJ1sg  [https://s3-media4.fl.yelpcdn.com/bphoto/LL6Lx...\n",
       "196  4vqUi0Zrhj6D7nAaMZz-OQ  [https://s3-media2.fl.yelpcdn.com/bphoto/onZg_...\n",
       "197  Gh3cLhqw1BqpFSN5BaemBg  [https://s3-media1.fl.yelpcdn.com/bphoto/bAfER...\n",
       "198  RxIFKVvc8iVBPIVpe55Byg  [https://s3-media3.fl.yelpcdn.com/bphoto/2vFXN...\n",
       "199  vth2jtXfVUCRJeIP680CyA  [https://s3-media3.fl.yelpcdn.com/bphoto/7M2QW...\n",
       "\n",
       "[200 rows x 2 columns]"
      ]
     },
     "execution_count": 16,
     "metadata": {},
     "output_type": "execute_result"
    }
   ],
   "source": [
    "df_data_photos"
   ]
  },
  {
   "cell_type": "markdown",
   "id": "4f3251de",
   "metadata": {},
   "source": [
    "#### Nombre de photos"
   ]
  },
  {
   "cell_type": "code",
   "execution_count": 17,
   "id": "87e05ee4",
   "metadata": {},
   "outputs": [
    {
     "name": "stdout",
     "output_type": "stream",
     "text": [
      "Le Dataframe contient 200 photos\n"
     ]
    }
   ],
   "source": [
    "print(f\"Le Dataframe contient {df_data_photos.shape[0]} photos\")"
   ]
  },
  {
   "cell_type": "markdown",
   "id": "88df3fc0",
   "metadata": {},
   "source": [
    "#### Nombre de restaurants"
   ]
  },
  {
   "cell_type": "code",
   "execution_count": 18,
   "id": "df2c0d75",
   "metadata": {},
   "outputs": [
    {
     "data": {
      "text/plain": [
       "200"
      ]
     },
     "execution_count": 18,
     "metadata": {},
     "output_type": "execute_result"
    }
   ],
   "source": [
    "nb_rest = df_data_photos['id_restaurant'].nunique()\n",
    "nb_rest"
   ]
  },
  {
   "cell_type": "code",
   "execution_count": 19,
   "id": "e1b2e336",
   "metadata": {},
   "outputs": [
    {
     "name": "stdout",
     "output_type": "stream",
     "text": [
      "Le Dataframe contient des photos de 200 restaurants\n"
     ]
    }
   ],
   "source": [
    "print(f\"Le Dataframe contient des photos de {nb_rest} restaurants\")"
   ]
  },
  {
   "cell_type": "markdown",
   "id": "ae722954",
   "metadata": {},
   "source": [
    "### Sauvegarde des informations dans un fichier CSV"
   ]
  },
  {
   "cell_type": "code",
   "execution_count": 20,
   "id": "f05fea7e",
   "metadata": {},
   "outputs": [],
   "source": [
    "df_data_photos.to_csv('data_photos_api.csv')"
   ]
  },
  {
   "cell_type": "markdown",
   "id": "490248ab",
   "metadata": {},
   "source": [
    "### Téléchargement du fichier pour vérification"
   ]
  },
  {
   "cell_type": "code",
   "execution_count": 21,
   "id": "578d3940",
   "metadata": {},
   "outputs": [],
   "source": [
    "df_data_photos_download = pd.read_csv('data_photos_api.csv', index_col=0)"
   ]
  },
  {
   "cell_type": "code",
   "execution_count": 22,
   "id": "557c3efc",
   "metadata": {},
   "outputs": [
    {
     "data": {
      "text/html": [
       "<div>\n",
       "<style scoped>\n",
       "    .dataframe tbody tr th:only-of-type {\n",
       "        vertical-align: middle;\n",
       "    }\n",
       "\n",
       "    .dataframe tbody tr th {\n",
       "        vertical-align: top;\n",
       "    }\n",
       "\n",
       "    .dataframe thead th {\n",
       "        text-align: right;\n",
       "    }\n",
       "</style>\n",
       "<table border=\"1\" class=\"dataframe\">\n",
       "  <thead>\n",
       "    <tr style=\"text-align: right;\">\n",
       "      <th></th>\n",
       "      <th>id_restaurant</th>\n",
       "      <th>url_photos</th>\n",
       "    </tr>\n",
       "  </thead>\n",
       "  <tbody>\n",
       "    <tr>\n",
       "      <th>0</th>\n",
       "      <td>reXWH9Wo0ZTOuQsTMNOSxg</td>\n",
       "      <td>['https://s3-media4.fl.yelpcdn.com/bphoto/hE4x...</td>\n",
       "    </tr>\n",
       "    <tr>\n",
       "      <th>1</th>\n",
       "      <td>-DrR38H1Abk0wCyu9XOLug</td>\n",
       "      <td>['https://s3-media3.fl.yelpcdn.com/bphoto/UwlH...</td>\n",
       "    </tr>\n",
       "    <tr>\n",
       "      <th>2</th>\n",
       "      <td>8kck3-K4zYKTJbJko0JlXQ</td>\n",
       "      <td>['https://s3-media4.fl.yelpcdn.com/bphoto/kUlE...</td>\n",
       "    </tr>\n",
       "    <tr>\n",
       "      <th>3</th>\n",
       "      <td>4KfQnlcSu4bbTqnvGdGptw</td>\n",
       "      <td>['https://s3-media2.fl.yelpcdn.com/bphoto/HKxM...</td>\n",
       "    </tr>\n",
       "    <tr>\n",
       "      <th>4</th>\n",
       "      <td>HHtpR0RslupSQ99GIIwW5A</td>\n",
       "      <td>['https://s3-media4.fl.yelpcdn.com/bphoto/ouK2...</td>\n",
       "    </tr>\n",
       "    <tr>\n",
       "      <th>...</th>\n",
       "      <td>...</td>\n",
       "      <td>...</td>\n",
       "    </tr>\n",
       "    <tr>\n",
       "      <th>195</th>\n",
       "      <td>6dpogM9AfMtNcXswIDJ1sg</td>\n",
       "      <td>['https://s3-media4.fl.yelpcdn.com/bphoto/LL6L...</td>\n",
       "    </tr>\n",
       "    <tr>\n",
       "      <th>196</th>\n",
       "      <td>4vqUi0Zrhj6D7nAaMZz-OQ</td>\n",
       "      <td>['https://s3-media2.fl.yelpcdn.com/bphoto/onZg...</td>\n",
       "    </tr>\n",
       "    <tr>\n",
       "      <th>197</th>\n",
       "      <td>Gh3cLhqw1BqpFSN5BaemBg</td>\n",
       "      <td>['https://s3-media1.fl.yelpcdn.com/bphoto/bAfE...</td>\n",
       "    </tr>\n",
       "    <tr>\n",
       "      <th>198</th>\n",
       "      <td>RxIFKVvc8iVBPIVpe55Byg</td>\n",
       "      <td>['https://s3-media3.fl.yelpcdn.com/bphoto/2vFX...</td>\n",
       "    </tr>\n",
       "    <tr>\n",
       "      <th>199</th>\n",
       "      <td>vth2jtXfVUCRJeIP680CyA</td>\n",
       "      <td>['https://s3-media3.fl.yelpcdn.com/bphoto/7M2Q...</td>\n",
       "    </tr>\n",
       "  </tbody>\n",
       "</table>\n",
       "<p>200 rows × 2 columns</p>\n",
       "</div>"
      ],
      "text/plain": [
       "              id_restaurant                                         url_photos\n",
       "0    reXWH9Wo0ZTOuQsTMNOSxg  ['https://s3-media4.fl.yelpcdn.com/bphoto/hE4x...\n",
       "1    -DrR38H1Abk0wCyu9XOLug  ['https://s3-media3.fl.yelpcdn.com/bphoto/UwlH...\n",
       "2    8kck3-K4zYKTJbJko0JlXQ  ['https://s3-media4.fl.yelpcdn.com/bphoto/kUlE...\n",
       "3    4KfQnlcSu4bbTqnvGdGptw  ['https://s3-media2.fl.yelpcdn.com/bphoto/HKxM...\n",
       "4    HHtpR0RslupSQ99GIIwW5A  ['https://s3-media4.fl.yelpcdn.com/bphoto/ouK2...\n",
       "..                      ...                                                ...\n",
       "195  6dpogM9AfMtNcXswIDJ1sg  ['https://s3-media4.fl.yelpcdn.com/bphoto/LL6L...\n",
       "196  4vqUi0Zrhj6D7nAaMZz-OQ  ['https://s3-media2.fl.yelpcdn.com/bphoto/onZg...\n",
       "197  Gh3cLhqw1BqpFSN5BaemBg  ['https://s3-media1.fl.yelpcdn.com/bphoto/bAfE...\n",
       "198  RxIFKVvc8iVBPIVpe55Byg  ['https://s3-media3.fl.yelpcdn.com/bphoto/2vFX...\n",
       "199  vth2jtXfVUCRJeIP680CyA  ['https://s3-media3.fl.yelpcdn.com/bphoto/7M2Q...\n",
       "\n",
       "[200 rows x 2 columns]"
      ]
     },
     "execution_count": 22,
     "metadata": {},
     "output_type": "execute_result"
    }
   ],
   "source": [
    "df_data_photos_download"
   ]
  },
  {
   "cell_type": "markdown",
   "id": "be8cde72",
   "metadata": {},
   "source": [
    "## Conclusion :\n",
    "- L'API GraphQL de Yelp nous a permis de récupérer :\n",
    "    - les identifiants restaurants, textes et notes des critiques laissées par les clients\n",
    "    - les urls des photos\n",
    "- pour 200 restaurants\n",
    "> **Cette étude montre que l'objectif fixé : collecter de nouvelles données via l’API Yelp, est atteignable**"
   ]
  }
 ],
 "metadata": {
  "kernelspec": {
   "display_name": "Python 3",
   "language": "python",
   "name": "python3"
  },
  "language_info": {
   "codemirror_mode": {
    "name": "ipython",
    "version": 3
   },
   "file_extension": ".py",
   "mimetype": "text/x-python",
   "name": "python",
   "nbconvert_exporter": "python",
   "pygments_lexer": "ipython3",
   "version": "3.8.8"
  }
 },
 "nbformat": 4,
 "nbformat_minor": 5
}
